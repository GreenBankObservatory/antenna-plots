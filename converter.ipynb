{
 "cells": [
  {
   "cell_type": "code",
   "execution_count": null,
   "id": "1c7220bd-fc6b-41bd-b6ed-692616c85306",
   "metadata": {},
   "outputs": [],
   "source": [
    "import numpy as np\n",
    "import matplotlib.pyplot as plt\n",
    "from astropy.time import Time\n",
    "\n",
    "from astropy.io import fits\n",
    "from astropy.table import Table\n",
    "from astropy.coordinates import Angle, SkyCoord\n",
    "import astropy.units as u\n",
    "import geoviews\n",
    "import pandas as pd\n",
    "import datashader\n",
    "import colorcet as cc\n",
    "from cartopy import crs\n",
    "from astropy.time import Time\n",
    "from datetime import datetime\n",
    "\n",
    "import holoviews as hv\n",
    "import holoviews.operation.datashader as hd\n",
    "from holoviews.operation.datashader import rasterize, shade, spread, dynspread, datashade\n",
    "from holoviews.operation import decimate\n",
    "import datashader\n",
    "import pandas as pd\n",
    "import numpy as np\n",
    "import datashader as ds\n",
    "from holoviews import opts\n",
    "\n",
    "import hvplot.pandas\n",
    "import bokeh\n",
    "from bokeh.models import ColumnDataSource, HoverTool\n",
    "from holoviews.selection import link_selections\n",
    "from holoviews.plotting.links import DataLink\n",
    "import param\n",
    "from tqdm import tqdm\n",
    "\n",
    "import colorcet as cc"
   ]
  },
  {
   "cell_type": "code",
   "execution_count": null,
   "id": "2b3f82b1-26bc-445d-9680-984592492806",
   "metadata": {},
   "outputs": [],
   "source": [
    "# read the file\n",
    "\n",
    "# filename = \"/users/elowe/repos/antenna-plots/ant_pos_17AB_plus.parquet\"\n",
    "# filename = \"/users/elowe/repos/antenna-plots/modified_ant_pos_17AB_plus_date.parquet\"\n",
    "filename = \"/home/scratch/elowe/antenna_data/ant_pos_with_az_al_30k.parquet\"\n",
    "df = pd.read_parquet(filename)\n",
    "# df = df[::100]\n",
    "df"
   ]
  },
  {
   "cell_type": "code",
   "execution_count": null,
   "id": "209ed149-c9d4-4b0e-805d-bb301534142d",
   "metadata": {},
   "outputs": [],
   "source": [
    "# code to convert the DMJD to date\n",
    "date = Time(df['DMJD'], format=\"mjd\").to_datetime()\n",
    "df['date'] = date\n",
    "df"
   ]
  },
  {
   "cell_type": "code",
   "execution_count": null,
   "id": "92ef8fd9-f53e-44c9-9866-7a6ac16dcea5",
   "metadata": {},
   "outputs": [],
   "source": [
    " %%time\n",
    "sc = SkyCoord(df['RAJ2000'], df['DECJ2000'], unit=u.deg, frame=\"icrs\", equinox=\"J2000\")\n",
    "sc"
   ]
  },
  {
   "cell_type": "code",
   "execution_count": null,
   "id": "347de7dd-8e6f-470d-afa3-95bf9af128b1",
   "metadata": {},
   "outputs": [],
   "source": [
    "%%time\n",
    "\n",
    "# Get skycoord into a dataframe\n",
    "galactic_df = sc.galactic.to_table().to_pandas()\n",
    "galactic_df.tail()"
   ]
  },
  {
   "cell_type": "code",
   "execution_count": null,
   "id": "946bf309-0b10-4a1a-a1c3-3bdb5fbe2747",
   "metadata": {},
   "outputs": [],
   "source": [
    "# Creating one file with all the columns we need\n",
    "\n",
    "\n",
    "\n",
    "gal_ra = galactic_df['l'].values.tolist()\n",
    "gal_dec = galactic_df['b'].values.tolist()\n",
    "\n",
    "df[\"gal_ra\"] = gal_ra\n",
    "df[\"gal_dec\"] = gal_dec\n",
    "df1 = df\n",
    "\n",
    "# antenna_data2.to_parquet('modified_ant_pos_with_az_al_small.parquet', engine='fastparquet')\n",
    "df1"
   ]
  },
  {
   "cell_type": "code",
   "execution_count": null,
   "id": "af27731a-20bf-4b87-82a1-e313fc59a99d",
   "metadata": {},
   "outputs": [],
   "source": [
    "df1.to_parquet('modified_ant_pos_17AB_plus.parquet', engine='pyarrow')"
   ]
  },
  {
   "cell_type": "code",
   "execution_count": null,
   "id": "bfd42d95-b144-4af9-94cd-1ab757ce4f30",
   "metadata": {},
   "outputs": [],
   "source": [
    "from holoviews import opts\n",
    "proj = geoviews.Points(df,['RAJ2000', 'DECJ2000'])\n",
    "proj = proj.opts(opts.Points(tools=['lasso_select','box_select'],projection=crs.Mollweide(),global_extent=True, width=800, height=400))\n",
    "proj = geoviews.operation.project_points(proj, projection=crs.Mollweide())\n",
    "\n",
    "# creating the decimated points\n",
    "# decimated_points = decimate(proj).opts(tools=['lasso_select', 'box_select', 'hover'], projection=crs.Mollweide(), )\n",
    "\n",
    "hv_shaded = hv.operation.datashader.datashade(rasterize(hv.DynamicMap(proj)), dynamic=True, precompute=True, cmap='fire')\n",
    "hv_spread = hv.operation.datashader.dynspread(hv_shaded, threshold=.40, max_px=1)\n",
    "hv_spread = hv_spread.opts(tools=['lasso_select','help'],bgcolor='white',projection=crs.Mollweide(), global_extent=True, frame_width=800, frame_height=400)"
   ]
  },
  {
   "cell_type": "code",
   "execution_count": null,
   "id": "dd898fc3-3f0a-4d9a-abfc-801f3de545b4",
   "metadata": {},
   "outputs": [],
   "source": [
    "hv_spread"
   ]
  },
  {
   "cell_type": "code",
   "execution_count": null,
   "id": "dc431ddb-54ec-4dff-8ad8-2819ad8d3562",
   "metadata": {},
   "outputs": [],
   "source": []
  }
 ],
 "metadata": {
  "kernelspec": {
   "display_name": "Python 3 (ipykernel)",
   "language": "python",
   "name": "python3"
  },
  "language_info": {
   "codemirror_mode": {
    "name": "ipython",
    "version": 3
   },
   "file_extension": ".py",
   "mimetype": "text/x-python",
   "name": "python",
   "nbconvert_exporter": "python",
   "pygments_lexer": "ipython3",
   "version": "3.9.0"
  }
 },
 "nbformat": 4,
 "nbformat_minor": 5
}
